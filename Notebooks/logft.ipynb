{
 "cells": [
  {
   "cell_type": "markdown",
   "metadata": {},
   "source": [
    "# A log(ft) calculator in Julia\n",
    "\n",
    "Time to modernize the Fortran log(ft) calculator to Julia."
   ]
  },
  {
   "cell_type": "markdown",
   "metadata": {},
   "source": [
    "## Parameterization\n",
    "\n",
    "This calculator is based on Lise++ parameterization. It utilizes a 4x4 matrix."
   ]
  },
  {
   "cell_type": "code",
   "execution_count": 230,
   "metadata": {},
   "outputs": [
    {
     "data": {
      "text/plain": [
       "4×4 Matrix{Float64}:\n",
       " -17.2         7.9015    -2.54        0.28482\n",
       "   3.31368    -2.06273    0.703822   -0.075039\n",
       "  -0.364018    0.387961  -0.142528    0.016\n",
       "   0.0278071  -0.026519   0.0098854  -0.00113772"
      ]
     },
     "metadata": {},
     "output_type": "display_data"
    }
   ],
   "source": [
    "      coeff = [-17.2 7.9015 -2.54 0.28482;\n",
    "           3.31368 -2.06273 0.703822 -0.075039;\n",
    "           -0.364018 0.387961 -0.142528 0.016;\n",
    "           0.0278071 -0.026519 0.0098854 -0.00113772\n",
    "       ]  "
   ]
  },
  {
   "cell_type": "markdown",
   "metadata": {},
   "source": [
    "With the parameterization available we calculate the coefficientes for a given Z element."
   ]
  },
  {
   "cell_type": "code",
   "execution_count": 231,
   "metadata": {},
   "outputs": [
    {
     "data": {
      "text/plain": [
       "4-element Vector{Float64}:\n",
       " -8.467743975397887\n",
       "  1.4949080026916683\n",
       " -0.06534850862939157\n",
       "  0.007274904305723154"
      ]
     },
     "metadata": {},
     "output_type": "display_data"
    }
   ],
   "source": [
    "z=32;\n",
    "evalCoeff = [\n",
    "coeff[1,1] + log(z) * coeff[1,2] + coeff[1,3]*log(z)^2. + coeff[1,4]*log(z)^3.,\n",
    "coeff[2,1] + log(z) * coeff[2,2] + coeff[2,3]*log(z)^2. + coeff[2,4]*log(z)^3.,\n",
    "coeff[3,1] + log(z) * coeff[3,2] + coeff[3,3]*log(z)^2. + coeff[3,4]*log(z)^3.,\n",
    "coeff[4,1] + log(z) * coeff[4,2] + coeff[4,3]*log(z)^2. + coeff[4,4]*log(z)^3.\n",
    "]\n",
    "\n",
    "# evalCoeff = [\n",
    "# coeff[1,1] + log(z) * coeff[2,1] + coeff[3,1]*log(z)^2. + coeff[4,1]*log(z)^3.,\n",
    "# coeff[1,2] + log(z) * coeff[2,2] + coeff[3,2]*log(z)^2. + coeff[4,2]*log(z)^3.,\n",
    "# coeff[1,3] + log(z) * coeff[2,3] + coeff[3,3]*log(z)^2. + coeff[4,3]*log(z)^3.,\n",
    "# coeff[1,4] + log(z) * coeff[2,4] + coeff[3,4]*log(z)^2. + coeff[4,4]*log(z)^3.\n",
    "# ]"
   ]
  },
  {
   "cell_type": "markdown",
   "metadata": {},
   "source": [
    "And log(f) using the parameters evaluated above and the electron(positron) enpoint energy."
   ]
  },
  {
   "cell_type": "code",
   "execution_count": 232,
   "metadata": {},
   "outputs": [
    {
     "name": "stdout",
     "output_type": "stream",
     "text": [
      "logf = 5.441332751293427"
     ]
    }
   ],
   "source": [
    "betaEp=10000 #keV\n",
    "lf = evalCoeff[1] + evalCoeff[2]*log(betaEp) + evalCoeff[3]*log(betaEp)^2. + evalCoeff[4]*log(betaEp)^3.\n",
    "print(\"logf = \",lf)"
   ]
  },
  {
   "cell_type": "markdown",
   "metadata": {},
   "source": [
    "with log(f) calculated we can get ft and logft"
   ]
  },
  {
   "cell_type": "code",
   "execution_count": 233,
   "metadata": {},
   "outputs": [
    {
     "data": {
      "text/plain": [
       "5.742362746957408"
      ]
     },
     "metadata": {},
     "output_type": "display_data"
    }
   ],
   "source": [
    "T12=0.2 #seconds;\n",
    "Ib=0.1\n",
    "ft = log10 ((10^lf) * T12 / Ib)"
   ]
  }
 ],
 "metadata": {
  "kernelspec": {
   "display_name": "Julia 1.6.4",
   "language": "julia",
   "name": "julia-1.6"
  },
  "language_info": {
   "file_extension": ".jl",
   "mimetype": "application/julia",
   "name": "julia",
   "version": "1.6.4"
  },
  "orig_nbformat": 4
 },
 "nbformat": 4,
 "nbformat_minor": 2
}
